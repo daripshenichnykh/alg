{
 "cells": [
  {
   "cell_type": "code",
   "execution_count": null,
   "id": "a60413d4",
   "metadata": {},
   "outputs": [],
   "source": [
    "# расчет сложности альфы"
   ]
  },
  {
   "cell_type": "code",
   "execution_count": null,
   "id": "5adf1108",
   "metadata": {},
   "outputs": [],
   "source": [
    "alpha = (High.add(Low)).sub(Close * 2)\n",
    "#сигнал строится на получении сигнала из разницы (суммы самой высокой цены за период и самой низкой)\n",
    "#и цены закрытия, умноженной на 2\n",
    "\n",
    "# у нас есть матрица из N активов по столбцам и M периодов времени по строкам\n",
    "\n",
    "# сложность О(N*M+N*M + N*M) = O(3*M*N)\n",
    "alpha = normalize(neutralize(alpha))\n",
    "#нормализуем и нейтрализуем данные для дальнейшей работы с ними\n",
    "#сложность нормализации (M*N+ M*N + M*N) = 3M*N\n",
    "# нейтрализации O(M*N + M*N) = 2M*N\n",
    "\n",
    "# O(3M*N * 2M*N)= O(6*M^2*N^2)\n",
    "#функции описаны ниже\n",
    "\n",
    "def normalization_df(alpha):\n",
    "    return (alpha.div(alpha.abs().sum(axis=1), axis=0))\n",
    "def neutralization_df(alpha):\n",
    "    return alpha.sub(alpha.mean(axis=1), axis=0)\n",
    "\n",
    "alpha = truncate(alpha, 0.05)\n",
    "#операция для ограничения веса каждого инструмента до 0.05\n",
    "#сложность О(N*M)\n",
    "\n",
    "alpha = normalize(neutralize(alpha))\n",
    "#сложность  O(6*M^2*N^2)\n"
   ]
  },
  {
   "cell_type": "code",
   "execution_count": null,
   "id": "36a57b3d",
   "metadata": {},
   "outputs": [],
   "source": []
  }
 ],
 "metadata": {
  "kernelspec": {
   "display_name": "Python 3 (ipykernel)",
   "language": "python",
   "name": "python3"
  },
  "language_info": {
   "codemirror_mode": {
    "name": "ipython",
    "version": 3
   },
   "file_extension": ".py",
   "mimetype": "text/x-python",
   "name": "python",
   "nbconvert_exporter": "python",
   "pygments_lexer": "ipython3",
   "version": "3.10.7"
  }
 },
 "nbformat": 4,
 "nbformat_minor": 5
}
